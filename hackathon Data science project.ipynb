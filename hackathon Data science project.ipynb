{
 "cells": [
  {
   "cell_type": "code",
   "execution_count": 8,
   "id": "7939b1c1-842f-44b2-8a5b-7498b22db923",
   "metadata": {},
   "outputs": [
    {
     "name": "stdout",
     "output_type": "stream",
     "text": [
      "Extracted files: ['Grid_data', 'wind_power_data']\n"
     ]
    }
   ],
   "source": [
    "import zipfile\n",
    "import os\n",
    "\n",
    "# Path to the uploaded ZIP file\n",
    "zip_file_path = 'Hackathon_data.zip'  # Update this with the actual file path\n",
    "\n",
    "# Directory to extract the contents of the ZIP file\n",
    "extracted_dir = 'data'  # Choose a directory name for extraction\n",
    "\n",
    "# Create the extraction directory if it doesn't exist\n",
    "if not os.path.exists(extracted_dir):\n",
    "    os.makedirs(extracted_dir)\n",
    "\n",
    "# Extract the contents of the ZIP file\n",
    "with zipfile.ZipFile(zip_file_path, 'r') as zip_ref:\n",
    "    zip_ref.extractall(extracted_dir)\n",
    "\n",
    "# List the extracted files\n",
    "extracted_files = os.listdir(extracted_dir)\n",
    "print(\"Extracted files:\", extracted_files)\n",
    "\n"
   ]
  },
  {
   "cell_type": "code",
   "execution_count": 10,
   "id": "299c0835-6a9b-4b25-bf9b-c429062a9351",
   "metadata": {},
   "outputs": [
    {
     "name": "stdout",
     "output_type": "stream",
     "text": [
      "                   date        c1        c2        c3        p1        p2  \\\n",
      "0      01-01-2024 00:00 -1.940140 -0.798906 -1.171796  0.209084  0.125430   \n",
      "1      01-01-2024 01:00 -1.431471 -0.523455 -1.481922  0.659985  0.565942   \n",
      "2      01-01-2024 02:00 -0.791358 -1.134176 -1.023553  0.083137  0.411446   \n",
      "3      01-01-2024 03:00 -1.291775 -1.943314 -1.536861  0.805780  0.431950   \n",
      "4      01-01-2024 04:00 -0.532246 -1.734586 -0.845011  0.067430  0.766504   \n",
      "...                 ...       ...       ...       ...       ...       ...   \n",
      "46002               NaN       NaN       NaN       NaN       NaN       NaN   \n",
      "46003               NaN       NaN       NaN       NaN       NaN       NaN   \n",
      "46004               NaN       NaN       NaN       NaN       NaN       NaN   \n",
      "46005               NaN       NaN       NaN       NaN       NaN       NaN   \n",
      "46006               NaN       NaN       NaN       NaN       NaN       NaN   \n",
      "\n",
      "             p3 stability              date stability  ...        c2  \\\n",
      "0      0.056619    stable  01-01-2019 01:00  unstable  ... -1.222973   \n",
      "1      0.252764    stable  01-01-2019 02:00    stable  ... -1.585220   \n",
      "2      0.376176    stable  01-01-2019 03:00  unstable  ... -1.547978   \n",
      "3      0.222319  unstable  01-01-2019 04:00  unstable  ... -1.677891   \n",
      "4      0.349372    stable  01-01-2019 05:00  unstable  ... -1.609664   \n",
      "...         ...       ...               ...       ...  ...       ...   \n",
      "46002       NaN       NaN  31-03-2024 19:00    stable  ...       NaN   \n",
      "46003       NaN       NaN  31-03-2024 20:00  unstable  ...       NaN   \n",
      "46004       NaN       NaN  31-03-2024 21:00    stable  ...       NaN   \n",
      "46005       NaN       NaN  31-03-2024 22:00  unstable  ...       NaN   \n",
      "46006       NaN       NaN  31-03-2024 23:00  unstable  ...       NaN   \n",
      "\n",
      "             c3              date        c1        c2        c3  \\\n",
      "0     -1.975143  01-01-2022 00:00 -0.556779 -0.972791 -1.223251   \n",
      "1     -0.901113  01-01-2022 01:00 -0.609745 -1.305500 -1.480122   \n",
      "2     -0.680791  01-01-2022 02:00 -0.787711 -1.407868 -1.716519   \n",
      "3     -0.513667  01-01-2022 03:00 -1.967796 -1.640341 -1.997236   \n",
      "4     -0.805867  01-01-2022 04:00 -1.581019 -1.659427 -1.409563   \n",
      "...         ...               ...       ...       ...       ...   \n",
      "46002       NaN               NaN       NaN       NaN       NaN   \n",
      "46003       NaN               NaN       NaN       NaN       NaN   \n",
      "46004       NaN               NaN       NaN       NaN       NaN   \n",
      "46005       NaN               NaN       NaN       NaN       NaN   \n",
      "46006       NaN               NaN       NaN       NaN       NaN   \n",
      "\n",
      "                   date        c1        c2        c3  \n",
      "0      01-01-2023 00:00 -0.861616 -0.869205 -1.891203  \n",
      "1      01-01-2023 01:00 -1.717246 -0.774988 -1.530702  \n",
      "2      01-01-2023 02:00 -1.272151 -1.141778 -1.410787  \n",
      "3      01-01-2023 03:00 -1.302678 -0.744530 -0.859524  \n",
      "4      01-01-2023 04:00 -1.844153 -1.954542 -0.785855  \n",
      "...                 ...       ...       ...       ...  \n",
      "46002               NaN       NaN       NaN       NaN  \n",
      "46003               NaN       NaN       NaN       NaN  \n",
      "46004               NaN       NaN       NaN       NaN  \n",
      "46005               NaN       NaN       NaN       NaN  \n",
      "46006               NaN       NaN       NaN       NaN  \n",
      "\n",
      "[46007 rows x 50 columns]\n"
     ]
    }
   ],
   "source": [
    "import pandas as pd\n",
    "import zipfile\n",
    "\n",
    "# Path to the uploaded ZIP file\n",
    "zip_file_path = 'Hackathon_data.zip'  # Update this with the actual file path\n",
    "\n",
    "# Create an empty DataFrame to store the concatenated data\n",
    "final_df = pd.DataFrame()\n",
    "\n",
    "# Extract the contents of the ZIP file\n",
    "with zipfile.ZipFile(zip_file_path, 'r') as zip_ref:\n",
    "    # Loop through each file in the ZIP archive\n",
    "    for file_name in zip_ref.namelist():\n",
    "        # Check if the file is a CSV file (you might need to adjust the condition)\n",
    "        if file_name.endswith('.csv'):\n",
    "            # Read the CSV file into a DataFrame\n",
    "            df = pd.read_csv(zip_ref.open(file_name))\n",
    "            \n",
    "            # Concatenate the DataFrame with the final DataFrame\n",
    "            final_df = pd.concat([final_df, df], axis=1)\n",
    "\n",
    "# Display the final DataFrame\n",
    "print(final_df)\n"
   ]
  },
  {
   "cell_type": "code",
   "execution_count": 16,
   "id": "8ef6aefc-5271-4556-bcab-459d504865da",
   "metadata": {},
   "outputs": [
    {
     "name": "stdout",
     "output_type": "stream",
     "text": [
      "KeyError: 'Power Generated'. Available column names: Index(['date', 'c1', 'c2', 'c3', 'p1', 'p2', 'p3', 'stability'], dtype='object')\n"
     ]
    }
   ],
   "source": [
    "import pandas as pd\n",
    "import zipfile\n",
    "\n",
    "# Path to the uploaded ZIP file\n",
    "zip_file_path = 'Hackathon_data.zip'  # Update this with the actual file path\n",
    "\n",
    "# Specify the CSV file you want to read from the ZIP archive\n",
    "csv_file_path_inside_zip = 'Grid_data/grid_2024.csv'  # Update this with the actual path inside the ZIP\n",
    "\n",
    "# Extract the specified CSV file from the ZIP archive and read it into a DataFrame\n",
    "with zipfile.ZipFile(zip_file_path, 'r') as zip_ref:\n",
    "    with zip_ref.open(csv_file_path_inside_zip) as csv_file:\n",
    "        power_df = pd.read_csv(csv_file)\n",
    "\n",
    "# Now you can proceed with your calculations\n",
    "try:\n",
    "    node1_power = power_df['Power Generated'] * 0.2\n",
    "    node2_power = power_df['Power Generated'] * 0.45\n",
    "    node3_power = power_df['Power Generated'] * 0.35\n",
    "except KeyError as e:\n",
    "    print(f\"KeyError: {e}. Available column names: {power_df.columns}\")\n"
   ]
  },
  {
   "cell_type": "code",
   "execution_count": 20,
   "id": "0aa60958-922e-4b4a-9b6e-4ec3876aab10",
   "metadata": {},
   "outputs": [
    {
     "name": "stdout",
     "output_type": "stream",
     "text": [
      "Percentage of Unstable Hours: 63.80985502206185\n"
     ]
    }
   ],
   "source": [
    "import pandas as pd\n",
    "import zipfile\n",
    "\n",
    "# Path to the uploaded ZIP file\n",
    "zip_file_path = 'Hackathon_data.zip'  # Update this with the actual file path\n",
    "\n",
    "# Specify the CSV file you want to read from the ZIP archive\n",
    "csv_file_path_inside_zip = 'Grid_data/grid_stability_val.csv'  # Update this with the actual path inside the ZIP\n",
    "\n",
    "# Extract the specified CSV file from the ZIP archive and read it into a DataFrame\n",
    "with zipfile.ZipFile(zip_file_path, 'r') as zip_ref:\n",
    "    with zip_ref.open(csv_file_path_inside_zip) as csv_file:\n",
    "        grid_stability_df = pd.read_csv(csv_file)\n",
    "\n",
    "# Now you can proceed with your calculations\n",
    "# For example, calculating the percentage of stable vs unstable hours\n",
    "stability_counts = grid_stability_df['stability'].value_counts(normalize=True)\n",
    "print(\"Percentage of Unstable Hours:\", stability_counts['unstable'] * 100)\n"
   ]
  },
  {
   "cell_type": "code",
   "execution_count": null,
   "id": "e5fd5437-c0f6-47f1-bdc3-39c328409b6d",
   "metadata": {},
   "outputs": [],
   "source": []
  }
 ],
 "metadata": {
  "kernelspec": {
   "display_name": "Python 3 (ipykernel)",
   "language": "python",
   "name": "python3"
  },
  "language_info": {
   "codemirror_mode": {
    "name": "ipython",
    "version": 3
   },
   "file_extension": ".py",
   "mimetype": "text/x-python",
   "name": "python",
   "nbconvert_exporter": "python",
   "pygments_lexer": "ipython3",
   "version": "3.12.0"
  }
 },
 "nbformat": 4,
 "nbformat_minor": 5
}
